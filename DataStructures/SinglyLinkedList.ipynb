{
 "cells": [
  {
   "cell_type": "markdown",
   "id": "a64d3df2",
   "metadata": {},
   "source": [
    "# Singly Linked List"
   ]
  },
  {
   "cell_type": "markdown",
   "id": "ca1965a7",
   "metadata": {},
   "source": [
    "## Node"
   ]
  },
  {
   "cell_type": "code",
   "execution_count": 1,
   "id": "0a535388",
   "metadata": {},
   "outputs": [],
   "source": [
    "class Node:\n",
    "    def __init__(self, value, nextNode):\n",
    "        self.value = value\n",
    "        self.nextNode = nextNode"
   ]
  },
  {
   "cell_type": "markdown",
   "id": "71deaf77",
   "metadata": {},
   "source": [
    "## Linked List"
   ]
  },
  {
   "cell_type": "code",
   "execution_count": 39,
   "id": "2f2e25d1",
   "metadata": {},
   "outputs": [],
   "source": [
    "class SinglyLinkedList:\n",
    "    head = tail = None\n",
    "    \n",
    "    def addNode(self, value):\n",
    "        if self.head == None:\n",
    "            self.head = self.tail = Node(value, None)\n",
    "        else:\n",
    "            self.tail.nextNode = Node(value, None)\n",
    "            self.tail = self.tail.nextNode\n",
    "    \n",
    "    def listLength(self):\n",
    "        count = 0\n",
    "        temp = self.head\n",
    "        while temp:\n",
    "            temp = temp.nextNode\n",
    "            count += 1\n",
    "        return count\n",
    "    \n",
    "    def addNodeAt(self, value, position):\n",
    "        if self.head == None:\n",
    "            addNode(value)\n",
    "        elif position == 0:\n",
    "            self.head = Node(value, self.head)\n",
    "        elif position >  self.listLength():\n",
    "            self.tail.nextNode = Node(value, None)\n",
    "            self.tail = self.tail.nextNode\n",
    "        else:\n",
    "            i = 0\n",
    "            temp = self.head\n",
    "            previousToNewNode = None\n",
    "            while(i < position - 1):\n",
    "                previousToNewNode = temp\n",
    "                temp = temp.nextNode\n",
    "                i += 1\n",
    "            previousToNewNode.nextNode = Node(value, previousToNewNode.nextNode)\n",
    "            \n",
    "    def removeHead(self):\n",
    "        self.head = self.head.nextNode\n",
    "        \n",
    "    def removeTail(self):\n",
    "        temp = self.head\n",
    "        while temp:\n",
    "            if(temp.nextNode.nextNode == None): # this means, in next run, temp will have tail\n",
    "                temp.nextNode = None\n",
    "                self.tail = temp\n",
    "            temp = temp.nextNode\n",
    "        \n",
    "    def printList(self):\n",
    "        temp = self.head\n",
    "        while temp:\n",
    "            if(temp.nextNode != None):\n",
    "                print(temp.value, end = ' -> ')\n",
    "            else:\n",
    "                print(temp.value)\n",
    "            temp = temp.nextNode"
   ]
  },
  {
   "cell_type": "code",
   "execution_count": 40,
   "id": "03937934",
   "metadata": {},
   "outputs": [
    {
     "name": "stdout",
     "output_type": "stream",
     "text": [
      "1 -> 2 -> 3 -> 4 -> 5 -> 6\n",
      "2 -> 3 -> 4 -> 5 -> 6\n",
      "2 -> 3 -> 4 -> 5\n",
      "2 -> 3 -> 4 -> 5 -> 10\n"
     ]
    }
   ],
   "source": [
    "l = SinglyLinkedList()\n",
    "l.addNode(1)\n",
    "l.addNode(2)\n",
    "l.addNode(3)\n",
    "l.addNode(4)\n",
    "l.addNode(5)\n",
    "l.addNode(6)\n",
    "\n",
    "l.printList()\n",
    "l.removeHead()\n",
    "l.printList()\n",
    "\n",
    "l.removeTail()\n",
    "l.printList()\n",
    "\n",
    "l.addNodeAt(10, 10)\n",
    "l.printList()\n"
   ]
  },
  {
   "cell_type": "code",
   "execution_count": null,
   "id": "d566f095",
   "metadata": {},
   "outputs": [],
   "source": []
  }
 ],
 "metadata": {
  "kernelspec": {
   "display_name": "Python 3 (ipykernel)",
   "language": "python",
   "name": "python3"
  },
  "language_info": {
   "codemirror_mode": {
    "name": "ipython",
    "version": 3
   },
   "file_extension": ".py",
   "mimetype": "text/x-python",
   "name": "python",
   "nbconvert_exporter": "python",
   "pygments_lexer": "ipython3",
   "version": "3.10.7"
  }
 },
 "nbformat": 4,
 "nbformat_minor": 5
}
