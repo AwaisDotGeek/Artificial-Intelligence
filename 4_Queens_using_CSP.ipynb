{
 "cells": [
  {
   "cell_type": "code",
   "execution_count": 1,
   "id": "98d405d8",
   "metadata": {},
   "outputs": [
    {
     "name": "stdout",
     "output_type": "stream",
     "text": [
      "[(0, 1), (1, 3), (2, 0), (3, 2)]\n"
     ]
    }
   ],
   "source": [
    "from typing import List\n",
    "\n",
    "def queens(n: int):\n",
    "    # initialize the chessboard with no queens\n",
    "    board = [[0] * n for _ in range(n)]\n",
    "\n",
    "    # the list of queens is empty at the beginning\n",
    "    queens = []\n",
    "\n",
    "    # recursive function to place the queens on the board\n",
    "    def place_queens(board, queens, row):\n",
    "        # if all queens have been placed, return the solution\n",
    "        if row == n:\n",
    "            return queens\n",
    "\n",
    "        # try placing a queen in each column of the current row\n",
    "        for col in range(n):\n",
    "            # check if the position (row, col) is safe for a queen\n",
    "            if is_safe(board, row, col):\n",
    "                # place the queen on the board\n",
    "                board[row][col] = 1\n",
    "                # add the position to the list of queens\n",
    "                queens.append((row, col))\n",
    "                # try placing the remaining queens\n",
    "                result = place_queens(board, queens, row + 1)\n",
    "                # if a solution is found, return it\n",
    "                if result:\n",
    "                    return result\n",
    "                # otherwise, backtrack by removing the queen and trying again\n",
    "                queens.pop()\n",
    "                board[row][col] = 0\n",
    "\n",
    "        # if no queen can be placed in the current row, return None\n",
    "        return None\n",
    "\n",
    "    # check if the position (row, col) is safe for a queen\n",
    "    def is_safe(board, row, col):\n",
    "        # check if there is another queen in the same row\n",
    "        for i in range(n):\n",
    "            if board[row][i] == 1:\n",
    "                return False\n",
    "\n",
    "        # check if there is another queen in the same column\n",
    "        for i in range(n):\n",
    "            if board[i][col] == 1:\n",
    "                return False\n",
    "\n",
    "        # check if there is another queen on the same diagonal\n",
    "        for i in range(n):\n",
    "            for j in range(n):\n",
    "                if abs(i - row) == abs(j - col) and board[i][j] == 1:\n",
    "                    return False\n",
    "\n",
    "        # if no conflicts were found, the position is safe\n",
    "        return True\n",
    "\n",
    "    # call the recursive function to place the queens on the board\n",
    "    return place_queens(board, queens, 0)\n",
    "\n",
    "# test the function\n",
    "print(queens(4))\n"
   ]
  },
  {
   "cell_type": "code",
   "execution_count": null,
   "id": "2d2c696d",
   "metadata": {},
   "outputs": [],
   "source": []
  },
  {
   "cell_type": "code",
   "execution_count": null,
   "id": "53ae7337",
   "metadata": {},
   "outputs": [],
   "source": []
  },
  {
   "cell_type": "code",
   "execution_count": null,
   "id": "e53c2611",
   "metadata": {},
   "outputs": [],
   "source": []
  }
 ],
 "metadata": {
  "kernelspec": {
   "display_name": "Python 3 (ipykernel)",
   "language": "python",
   "name": "python3"
  },
  "language_info": {
   "codemirror_mode": {
    "name": "ipython",
    "version": 3
   },
   "file_extension": ".py",
   "mimetype": "text/x-python",
   "name": "python",
   "nbconvert_exporter": "python",
   "pygments_lexer": "ipython3",
   "version": "3.9.13"
  }
 },
 "nbformat": 4,
 "nbformat_minor": 5
}
