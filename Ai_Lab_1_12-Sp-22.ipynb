{
 "cells": [
  {
   "cell_type": "code",
   "execution_count": 19,
   "metadata": {},
   "outputs": [
    {
     "name": "stdout",
     "output_type": "stream",
     "text": [
      "2\n",
      "8\n",
      "16\n"
     ]
    }
   ],
   "source": [
    "# <----- Number System ----->\n",
    "print(0b10) # Binary => 0b\n",
    "print(0o10) # Octal => 0o\n",
    "print(0x10) # Hexa => 0x"
   ]
  },
  {
   "cell_type": "code",
   "execution_count": 21,
   "metadata": {},
   "outputs": [
    {
     "name": "stdout",
     "output_type": "stream",
     "text": [
      "1.79e+308\n",
      "inf\n"
     ]
    }
   ],
   "source": [
    "# <----- Exponential values ----->\n",
    "print(1.79e308)\n",
    "print(1.8e308) # The value greater than max value FLOAT is capable of storing is replaced with 'inf' "
   ]
  },
  {
   "cell_type": "code",
   "execution_count": 24,
   "metadata": {},
   "outputs": [
    {
     "name": "stdout",
     "output_type": "stream",
     "text": [
      "(2+3j)\n"
     ]
    },
    {
     "data": {
      "text/plain": [
       "complex"
      ]
     },
     "execution_count": 24,
     "metadata": {},
     "output_type": "execute_result"
    }
   ],
   "source": [
    "# <----- Complex Number ----->\n",
    "print(2 + 3j)\n",
    "type(2 + 3j) # this method is used to see the type of specified value"
   ]
  },
  {
   "cell_type": "code",
   "execution_count": 25,
   "metadata": {},
   "outputs": [
    {
     "name": "stdout",
     "output_type": "stream",
     "text": [
      "Hello 'Aamir Habib'!\n"
     ]
    }
   ],
   "source": [
    "# <----- Using quoted string ----->\n",
    "print(\"Hello 'Aamir Habib'\") # If the complete string is in single inverted comma and a part is needed to be quoted, it will give error"
   ]
  },
  {
   "cell_type": "code",
   "execution_count": 29,
   "metadata": {},
   "outputs": [
    {
     "name": "stdout",
     "output_type": "stream",
     "text": [
      "Enter a number : 10\n",
      "The number is Even\n"
     ]
    }
   ],
   "source": [
    "# <========== Lab-Activity 1 ==========>\n",
    "# Let us take an integer from user as input and check whether the given value is even or not.\n",
    "num = int(input('Enter a number : '))\n",
    "if(num % 2 == 0):\n",
    "    print(\"The number is Even\")\n",
    "else:\n",
    "    print(\"The number is Odd\")"
   ]
  },
  {
   "cell_type": "code",
   "execution_count": 31,
   "metadata": {},
   "outputs": [
    {
     "name": "stdout",
     "output_type": "stream",
     "text": [
      "Enter num to be added (0 to exit) : 1\n",
      "Enter num to be added (0 to exit) : 10\n",
      "Enter num to be added (0 to exit) : 20\n",
      "Enter num to be added (0 to exit) : 0\n",
      "The sum of all entered nums = 31\n"
     ]
    }
   ],
   "source": [
    "# <========== Lab-Activity 2 ==========>\n",
    "# Write a Python code to keep accepting integer values from user until 0 is entered. Display sum of the given values.\n",
    "num = int(input('Enter num to be added (0 to exit) : '))\n",
    "numsSum = 0\n",
    "while(num != 0):\n",
    "    numsSum = numsSum + num\n",
    "    num = int(input('Enter num to be added (0 to exit) : '))\n",
    "\n",
    "print(f\"The sum of all entered nums = {numsSum}\")"
   ]
  },
  {
   "cell_type": "code",
   "execution_count": 35,
   "metadata": {},
   "outputs": [
    {
     "name": "stdout",
     "output_type": "stream",
     "text": [
      "Enter a number : 9\n",
      "9 is NOT a Prime number\n"
     ]
    }
   ],
   "source": [
    "# <========== Lab-Activity 3 ==========>\n",
    "# Write a Python code to accept an integer value from user and check that whether the given value is prime number or not\n",
    "num = int(input('Enter a number : '))\n",
    "count = 0\n",
    "for i in range (1, num + 1):\n",
    "    if(num % i == 0):\n",
    "        count += 1;\n",
    "if(count == 2):\n",
    "    print(f\"{num} is a Prime number\")\n",
    "else:\n",
    "    print(f\"{num} is NOT a Prime number\")"
   ]
  },
  {
   "cell_type": "code",
   "execution_count": 36,
   "metadata": {},
   "outputs": [
    {
     "name": "stdout",
     "output_type": "stream",
     "text": [
      "Enter a number10\n",
      "Enter a number10\n",
      "Enter a number10\n",
      "Enter a number10\n",
      "Enter a number10\n",
      "Sum of 5 numbers = 50\n"
     ]
    }
   ],
   "source": [
    "# <========== Lab-Activity 4 ==========>\n",
    "# Accept 5 integer values from user and display their sum. Draw flowchart before coding in python.\n",
    "numsSum = 0\n",
    "for i in range(1, 6):\n",
    "    num = int(input(f\"Enter a number\"))\n",
    "    numsSum = numsSum + num\n",
    "print(f\"Sum of 5 numbers = {numsSum}\")\n"
   ]
  },
  {
   "cell_type": "code",
   "execution_count": 39,
   "metadata": {},
   "outputs": [
    {
     "name": "stdout",
     "output_type": "stream",
     "text": [
      "Sum of number from [0 to 10] = 55\n"
     ]
    }
   ],
   "source": [
    "# <========== Lab-Activity 5 ==========>\n",
    "# Calculate the sum of all the values between 0-10 using while loop.\n",
    "numsSum = 0\n",
    "i = 1\n",
    "while i <= 10:\n",
    "    numsSum = numsSum + i\n",
    "    i += 1\n",
    "print(f\"Sum of number from [0 to 10] = {numsSum}\")"
   ]
  },
  {
   "cell_type": "code",
   "execution_count": 45,
   "metadata": {},
   "outputs": [
    {
     "name": "stdout",
     "output_type": "stream",
     "text": [
      "Enter ur name : chaudary\n",
      "Eat some Cherries my Friend!\n"
     ]
    }
   ],
   "source": [
    "# <========== Lab-Activity 6 ==========>\n",
    "# Take input from the keyboard and use it in your program\n",
    "name = input('Enter ur name : ').capitalize()\n",
    "if(name.startswith('A')):\n",
    "    print('Eat some Apples my friend!')\n",
    "elif(name.startswith('C')):\n",
    "    print('Eat some Cherries my Friend!')"
   ]
  },
  {
   "cell_type": "code",
   "execution_count": 12,
   "metadata": {},
   "outputs": [
    {
     "name": "stdout",
     "output_type": "stream",
     "text": [
      "Note: Enter ur guess number b/w [0-9], 0 and 9 included!, enter 'exit' to close\n",
      "\n",
      "Enter guess : 1\n",
      "Your guess is Low!\n",
      "Enter guess : 5\n",
      "Your guess is High\n",
      "Enter guess : 7\n",
      "Your guess is High\n",
      "Enter guess : 3\n",
      "You got it right in 4 tries.. Pretty Good!!\n"
     ]
    }
   ],
   "source": [
    "# <========== Lab-Activity 7 ==========>\n",
    "# Generate a random number between 1 and 9 (including 1 and 9). Ask the user to guess the number,\n",
    "# then tell them whether they guessed too low, too high, or exactly right. (Hint: remember to use the\n",
    "# user input lessons from the very first exercise)\n",
    "# Extras:\n",
    "# Keep the game going until the user types “exit”\n",
    "# Keep track of how many guesses the user has taken, and when the game ends, print this out.\n",
    "\n",
    "import random as R\n",
    "randNum = R.randint(0, 10)\n",
    "print(\"Note: Enter ur guess number b/w [0-9], 0 and 9 included!, enter 'exit' to close\\n\")\n",
    "tries = 0\n",
    "while(True):\n",
    "    userInput = input(\"Enter guess : \")\n",
    "    if(userInput.capitalize() == 'Exit'):\n",
    "        break\n",
    "    tries += 1\n",
    "    userInput = int(userInput)\n",
    "    if(userInput == randNum):\n",
    "        if(tries <= 2):\n",
    "            print(f'You got it right in {tries} tries.. Amaizing!!!')\n",
    "        elif(tries > 2 and tries <= 5):\n",
    "            print(f'You got it right in {tries} tries.. Pretty Good!!')\n",
    "        else:\n",
    "            print(f'You got it right in {tries} tries.. Bad!')\n",
    "        break\n",
    "    elif(userInput < randNum):\n",
    "        print('Your guess is Low!')\n",
    "    else:\n",
    "        print('Your guess is High')"
   ]
  },
  {
   "cell_type": "code",
   "execution_count": 7,
   "metadata": {},
   "outputs": [
    {
     "name": "stdout",
     "output_type": "stream",
     "text": [
      "Enter a number : 12345\n",
      "54321\n"
     ]
    }
   ],
   "source": [
    "# <========== Lab-Task-1 ==========>\n",
    "# Write a program that prompts the user to input an integer and then outputs the number with the digits\n",
    "# reversed. For example, if the input is 12345, the output should be 54321.\n",
    "num = int(input('Enter a number : '))\n",
    "rev = 0\n",
    "while(num != 0):\n",
    "    rem = num % 10\n",
    "    rev = rev * 10 + rem\n",
    "    num = num // 10\n",
    "print(rev)"
   ]
  },
  {
   "cell_type": "code",
   "execution_count": 9,
   "metadata": {},
   "outputs": [
    {
     "name": "stdout",
     "output_type": "stream",
     "text": [
      "Enter a number : 1\n",
      "Enter a number : 2\n",
      "Enter a number : 3\n",
      "Enter a number : 4\n",
      "Enter a number : 5\n",
      "Enter a number : 6\n",
      "Enter a number : 7\n",
      "Enter a number : 8\n",
      "Enter a number : 9\n",
      "Enter a number : 10\n",
      "Sum of Odd enterd nums = 25\n",
      "Sum of Even entered nums = 30\n"
     ]
    }
   ],
   "source": [
    "# <========== Lab-Task-2 ==========>\n",
    "# Write a program that reads a set of integers, and then prints the sum of the even and odd integers.\n",
    "evenNums_Sum = 0\n",
    "oddNums_Sum = 0\n",
    "i = 1\n",
    "while(i <= 10):\n",
    "    num = int(input('Enter a number : '))\n",
    "    if(num % 2 == 0):\n",
    "        evenNums_Sum += num\n",
    "    else:\n",
    "        oddNums_Sum += num\n",
    "    i += 1\n",
    "print(f\"Sum of Odd enterd nums = {oddNums_Sum}\\nSum of Even entered nums = {evenNums_Sum}\")"
   ]
  },
  {
   "cell_type": "code",
   "execution_count": 15,
   "metadata": {},
   "outputs": [
    {
     "name": "stdout",
     "output_type": "stream",
     "text": [
      "Enter a number : 6\n",
      "0 1 2 3 5 8 \n"
     ]
    }
   ],
   "source": [
    "# <========== Lab-Task-3 ==========>\n",
    "# Fibonacci series is that when you add the previous two numbers the next number is formed. You have\n",
    "# to start from 0 and 1.\n",
    "# E.g. 0+1=1 → 1+1=2 → 1+2=3 → 2+3=5 → 3+5=8 → 5+8=13\n",
    "# So the series becomes\n",
    "# 0 1 1 2 3 5 8 13 21 34 55 ……………………………………\n",
    "# Steps: You have to take an input number that shows how many terms to be displayed. Then use loops\n",
    "# for displaying the Fibonacci series up to that term e.g. input no is =6 the output should be\n",
    "# 0 1 1 2 3 5\n",
    "\n",
    "num = int(input(\"Enter a number : \"))\n",
    "fabi_series = \"\"\n",
    "a = 0\n",
    "b = 1\n",
    "c = 0\n",
    "for i in range (1, num + 1):\n",
    "    fabi_series += (f\"{c} \")\n",
    "    c = a + b\n",
    "    a = b\n",
    "    b = c\n",
    "print(fabi_series)"
   ]
  },
  {
   "cell_type": "code",
   "execution_count": 16,
   "metadata": {},
   "outputs": [
    {
     "name": "stdout",
     "output_type": "stream",
     "text": [
      "Enter your Marks : 99\n",
      "Grade A\n"
     ]
    }
   ],
   "source": [
    "# <========== Lab-Task-4 ==========>\n",
    "# Write a Python code to accept marks of a student from 1-100 and display the grade according to the following formula.\n",
    "# Grade F if marks are less than 50\n",
    "# Grade E if marks are between 50 to 60\n",
    "# Grade D if marks are between 61 to 70\n",
    "# Grade C if marks are between 71 to 80\n",
    "# Grade B if marks are between 81 to 90\n",
    "# Grade A if marks are between 91 to 100\n",
    "marks = int(input('Enter your Marks : '))\n",
    "if(marks < 50):\n",
    "    print('Grade F')\n",
    "elif(marks >= 50 and marks <= 60):\n",
    "    print('Grade E')\n",
    "elif(marks >= 61 and marks <= 70):\n",
    "    print('Grade D')\n",
    "elif(marks >= 71 and marks <= 80):\n",
    "    print('Grade C')\n",
    "elif(marks >= 81 and marks <= 90):\n",
    "    print('Grade B')\n",
    "else:\n",
    "    print('Grade A')"
   ]
  },
  {
   "cell_type": "code",
   "execution_count": 14,
   "metadata": {},
   "outputs": [
    {
     "name": "stdout",
     "output_type": "stream",
     "text": [
      "Enter a number : 5\n",
      "Factorial of 5 = 120\n"
     ]
    }
   ],
   "source": [
    "# <========== Lab-Task-5 ==========>\n",
    "# Write a program that takes a number from user and calculate the factorial of that number\n",
    "num = int(input('Enter a number : '))\n",
    "fact = 1\n",
    "for i in range(1, num + 1):\n",
    "    fact *= i\n",
    "print(f'Factorial of {num} = {fact}')"
   ]
  },
  {
   "cell_type": "code",
   "execution_count": null,
   "metadata": {},
   "outputs": [],
   "source": []
  }
 ],
 "metadata": {
  "kernelspec": {
   "display_name": "Python 3",
   "language": "python",
   "name": "python3"
  },
  "language_info": {
   "codemirror_mode": {
    "name": "ipython",
    "version": 3
   },
   "file_extension": ".py",
   "mimetype": "text/x-python",
   "name": "python",
   "nbconvert_exporter": "python",
   "pygments_lexer": "ipython3",
   "version": "3.8.5"
  }
 },
 "nbformat": 4,
 "nbformat_minor": 4
}
